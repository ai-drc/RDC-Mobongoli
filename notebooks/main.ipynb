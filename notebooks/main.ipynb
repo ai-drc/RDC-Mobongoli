{
  "nbformat": 4,
  "nbformat_minor": 0,
  "metadata": {
    "accelerator": "GPU",
    "colab": {
      "name": "main_training.ipynb",
      "provenance": [],
      "collapsed_sections": [],
      "include_colab_link": true
    },
    "kernelspec": {
      "display_name": "Python 3",
      "language": "python",
      "name": "python3"
    },
    "language_info": {
      "codemirror_mode": {
        "name": "ipython",
        "version": 3
      },
      "file_extension": ".py",
      "mimetype": "text/x-python",
      "name": "python",
      "nbconvert_exporter": "python",
      "pygments_lexer": "ipython3",
      "version": "3.7.3"
    }
  },
  "cells": [
    {
      "cell_type": "markdown",
      "metadata": {
        "id": "view-in-github",
        "colab_type": "text"
      },
      "source": [
        "<a href=\"https://colab.research.google.com/github/Kabongosalomon/RDC-Mobongoli/blob/main/notebooks/main.ipynb\" target=\"_parent\"><img src=\"https://colab.research.google.com/assets/colab-badge.svg\" alt=\"Open In Colab\"/></a>"
      ]
    },
    {
      "cell_type": "markdown",
      "metadata": {
        "id": "Igc5itf-xMGj"
      },
      "source": [
        "# Masakhane - Reverse Machine Translation for African Languages (Using JoeyNMT)"
      ]
    },
    {
      "cell_type": "markdown",
      "metadata": {
        "id": "G7wDE7uVPrEn"
      },
      "source": [
        "> ## NB\n",
        ">### - The purpose of this Notebook is to build models that translate African languages(target language) *into* English(source language). This will allow us to in future be able to make translations from one African language to the other. If you'd like to translate *from* English, please use [this](https://github.com/masakhane-io/masakhane-mt/blob/master/starter_notebook.ipynb) starter notebook instead.\n",
        "\n",
        ">### - We call this reverse training because normally we build models that make translations from the source language(English) to the target language. But in this case we are doing the reverse; building models that make translations from the target language to the source(English)"
      ]
    },
    {
      "cell_type": "markdown",
      "metadata": {
        "id": "x4fXCKCf36IK"
      },
      "source": [
        "## Note before beginning:\n",
        "### - The idea is that you should be able to make minimal changes to this in order to get SOME result for your own translation corpus. \n",
        "\n",
        "### - The tl;dr: Go to the **\"TODO\"** comments which will tell you what to update to get up and running\n",
        "\n",
        "### - If you actually want to have a clue what you're doing, read the text and peek at the links\n",
        "\n",
        "### - With 100 epochs, it should take around 7 hours to run in Google Colab\n",
        "\n",
        "### - Once you've gotten a result for your language, please attach and email your notebook that generated it to masakhanetranslation@gmail.com\n",
        "\n",
        "### - If you care enough and get a chance, doing a brief background on your language would be amazing. See examples in  [(Martinus, 2019)](https://arxiv.org/abs/1906.05685)"
      ]
    },
    {
      "cell_type": "markdown",
      "metadata": {
        "id": "l929HimrxS0a"
      },
      "source": [
        "## Retrieve your data & make a parallel corpus\n",
        "\n",
        "If you are wanting to use the JW300 data referenced on the Masakhane website or in our GitHub repo, you can use `opus-tools` to convert the data into a convenient format. `opus_read` from that package provides a convenient tool for reading the native aligned XML files and to convert them to TMX format. The tool can also be used to fetch relevant files from OPUS on the fly and to filter the data as necessary. [Read the documentation](https://pypi.org/project/opustools-pkg/) for more details.\n",
        "\n",
        "Once you have your corpus files in TMX format (an xml structure which will include the sentences in your target language and your source language in a single file), we recommend reading them into a pandas dataframe. Thankfully, Jade wrote a silly `tmx2dataframe` package which converts your tmx file to a pandas dataframe. \n",
        "\n",
        "The language codes from the [JW300 corpus website](https://object.pouta.csc.fi/OPUS-JW300/v1/languages.json) are: \n",
        "```\n",
        "{\n",
        "    \"language\": \"French - Français\",\n",
        "    \"language_en\": \"French\",\n",
        "    \"language_native\": \"Français\",\n",
        "    \"language_short\": \"fr\",\n",
        "    \"url\": \"https://wol.jw.org/fr/wol/pref/r30/lp-f?newrsconf=r30&newlib=lp-f&url=\"\n",
        "}, \n",
        "\n",
        "{\n",
        "    \"language\": \"Lingala - Lingala\",\n",
        "    \"language_en\": \"Lingala\",\n",
        "    \"language_native\": \"Lingala\",\n",
        "    \"language_short\": \"ln\",\n",
        "    \"url\": \"https://wol.jw.org/ln/wol/pref/r126/lp-li?newrsconf=r126&newlib=lp-li&url=\"\n",
        "},\n",
        "\n",
        "{\n",
        "    \"language\": \"Tshiluba - Tshiluba\",\n",
        "    \"language_en\": \"Tshiluba\",\n",
        "    \"language_native\": \"Tshiluba\",\n",
        "    \"language_short\": \"lua\",\n",
        "    \"url\": \"https://wol.jw.org/lua/wol/pref/r477/lp-sh?newrsconf=r477&newlib=lp-sh&url=\"\n",
        "},\n",
        "\n",
        "{\n",
        "    \"language\": \"Kikongo - Kikongo\",\n",
        "    \"language_en\": \"Kikongo\",\n",
        "    \"language_native\": \"Kikongo\",\n",
        "    \"language_short\": \"kwy\",\n",
        "    \"url\": \"https://wol.jw.org/kwy/wol/pref/r128/lp-kg?newrsconf=r128&newlib=lp-kg&url=\"\n",
        "},\n",
        "\n",
        "{\n",
        "    \"language\": \"Swahili (Congo) - Kiswahili (Congo)\",\n",
        "    \"language_en\": \"Swahili (Congo)\",\n",
        "    \"language_native\": \"Kiswahili (Congo)\",\n",
        "    \"language_short\": \"swc\",\n",
        "    \"url\": \"https://wol.jw.org/swc/wol/pref/r143/lp-zs?newrsconf=r143&newlib=lp-zs&url=\"\n",
        "},\n",
        "```"
      ]
    },
    {
      "cell_type": "code",
      "metadata": {
        "colab": {
          "base_uri": "https://localhost:8080/"
        },
        "id": "oGRmDELn7Az0",
        "outputId": "1a3f76ac-6bf1-4e56-87d9-94def1257b92"
      },
      "source": [
        "from google.colab import drive\n",
        "drive.mount('/content/drive')"
      ],
      "execution_count": 1,
      "outputs": [
        {
          "output_type": "stream",
          "text": [
            "Mounted at /content/drive\n"
          ],
          "name": "stdout"
        }
      ]
    },
    {
      "cell_type": "code",
      "metadata": {
        "id": "Cn3tgQLzUxwn"
      },
      "source": [
        "# TODO: Set your source and target languages. Keep in mind, these traditionally use language codes as found here:\n",
        "# These will also become the suffix's of all vocab and corpus files used throughout\n",
        "import os\n",
        "source_language = \"fr\"\n",
        "target_language = \"ln\" \n",
        "lc = False  # If True, lowercase the data.\n",
        "seed = 42  # Random seed for shuffling.\n",
        "tag = \"baseline\" # Give a unique name to your folder - this is to ensure you don't rewrite any models you've already submitted\n",
        "\n",
        "os.environ[\"src\"] = source_language # Sets them in bash as well, since we often use bash scripts\n",
        "os.environ[\"tgt\"] = target_language\n",
        "os.environ[\"tag\"] = tag\n",
        "\n",
        "# This will save it to a folder in our gdrive instead!\n",
        "!mkdir -p \"/content/drive/My Drive/masakhane/$tgt-$src-$tag\"\n",
        "os.environ[\"gdrive_path\"] = \"/content/drive/My Drive/masakhane/%s-%s-%s\" % (target_language, source_language, tag)"
      ],
      "execution_count": 2,
      "outputs": []
    },
    {
      "cell_type": "code",
      "metadata": {
        "colab": {
          "base_uri": "https://localhost:8080/"
        },
        "id": "kBSgJHEw7Nvx",
        "outputId": "da889648-fb60-4005-afd7-b77b8746cb2f"
      },
      "source": [
        "!echo $gdrive_path"
      ],
      "execution_count": 3,
      "outputs": [
        {
          "output_type": "stream",
          "text": [
            "/content/drive/My Drive/masakhane/ln-fr-baseline\n"
          ],
          "name": "stdout"
        }
      ]
    },
    {
      "cell_type": "code",
      "metadata": {
        "colab": {
          "base_uri": "https://localhost:8080/"
        },
        "id": "gA75Fs9ys8Y9",
        "outputId": "55a9b8a1-9903-4a43-8ca4-49e46c7e917e"
      },
      "source": [
        "# Install opus-tools\n",
        "! pip install opustools-pkg\n",
        "\n",
        "! pip install torch==1.8.0+cu111 \\\n",
        "            torchvision==0.9.0+cu111 torchaudio==0.8.0 \\\n",
        "                torchtext==0.9 -f https://download.pytorch.org/whl/torch_stable.html"
      ],
      "execution_count": 5,
      "outputs": [
        {
          "output_type": "stream",
          "text": [
            "Requirement already satisfied: opustools-pkg in /usr/local/lib/python3.7/dist-packages (0.0.52)\n",
            "Looking in links: https://download.pytorch.org/whl/torch_stable.html\n",
            "Collecting torch==1.8.0+cu111\n",
            "  Downloading https://download.pytorch.org/whl/cu111/torch-1.8.0%2Bcu111-cp37-cp37m-linux_x86_64.whl (1982.2 MB)\n",
            "\u001b[K     |█████████████▌                  | 834.1 MB 1.4 MB/s eta 0:13:31tcmalloc: large alloc 1147494400 bytes == 0x55f9d7fe8000 @  0x7f225d4a4615 0x55f99f2a002c 0x55f99f38017a 0x55f99f2a2e4d 0x55f99f394c0d 0x55f99f3170d8 0x55f99f311c35 0x55f99f2a473a 0x55f99f316f40 0x55f99f311c35 0x55f99f2a473a 0x55f99f31393b 0x55f99f395a56 0x55f99f312fb3 0x55f99f395a56 0x55f99f312fb3 0x55f99f395a56 0x55f99f312fb3 0x55f99f2a4b99 0x55f99f2e7e79 0x55f99f2a37b2 0x55f99f316e65 0x55f99f311c35 0x55f99f2a473a 0x55f99f31393b 0x55f99f311c35 0x55f99f2a473a 0x55f99f312b0e 0x55f99f2a465a 0x55f99f312d67 0x55f99f311c35\n",
            "\u001b[K     |█████████████████               | 1055.7 MB 1.4 MB/s eta 0:11:10tcmalloc: large alloc 1434370048 bytes == 0x55fa1c63e000 @  0x7f225d4a4615 0x55f99f2a002c 0x55f99f38017a 0x55f99f2a2e4d 0x55f99f394c0d 0x55f99f3170d8 0x55f99f311c35 0x55f99f2a473a 0x55f99f316f40 0x55f99f311c35 0x55f99f2a473a 0x55f99f31393b 0x55f99f395a56 0x55f99f312fb3 0x55f99f395a56 0x55f99f312fb3 0x55f99f395a56 0x55f99f312fb3 0x55f99f2a4b99 0x55f99f2e7e79 0x55f99f2a37b2 0x55f99f316e65 0x55f99f311c35 0x55f99f2a473a 0x55f99f31393b 0x55f99f311c35 0x55f99f2a473a 0x55f99f312b0e 0x55f99f2a465a 0x55f99f312d67 0x55f99f311c35\n",
            "\u001b[K     |█████████████████████▋          | 1336.2 MB 1.2 MB/s eta 0:08:59tcmalloc: large alloc 1792966656 bytes == 0x55f9a1470000 @  0x7f225d4a4615 0x55f99f2a002c 0x55f99f38017a 0x55f99f2a2e4d 0x55f99f394c0d 0x55f99f3170d8 0x55f99f311c35 0x55f99f2a473a 0x55f99f316f40 0x55f99f311c35 0x55f99f2a473a 0x55f99f31393b 0x55f99f395a56 0x55f99f312fb3 0x55f99f395a56 0x55f99f312fb3 0x55f99f395a56 0x55f99f312fb3 0x55f99f2a4b99 0x55f99f2e7e79 0x55f99f2a37b2 0x55f99f316e65 0x55f99f311c35 0x55f99f2a473a 0x55f99f31393b 0x55f99f311c35 0x55f99f2a473a 0x55f99f312b0e 0x55f99f2a465a 0x55f99f312d67 0x55f99f311c35\n",
            "\u001b[K     |███████████████████████████▎    | 1691.1 MB 1.4 MB/s eta 0:03:32tcmalloc: large alloc 2241208320 bytes == 0x55fa0c258000 @  0x7f225d4a4615 0x55f99f2a002c 0x55f99f38017a 0x55f99f2a2e4d 0x55f99f394c0d 0x55f99f3170d8 0x55f99f311c35 0x55f99f2a473a 0x55f99f316f40 0x55f99f311c35 0x55f99f2a473a 0x55f99f31393b 0x55f99f395a56 0x55f99f312fb3 0x55f99f395a56 0x55f99f312fb3 0x55f99f395a56 0x55f99f312fb3 0x55f99f2a4b99 0x55f99f2e7e79 0x55f99f2a37b2 0x55f99f316e65 0x55f99f311c35 0x55f99f2a473a 0x55f99f31393b 0x55f99f311c35 0x55f99f2a473a 0x55f99f312b0e 0x55f99f2a465a 0x55f99f312d67 0x55f99f311c35\n",
            "\u001b[K     |████████████████████████████████| 1982.2 MB 1.2 MB/s eta 0:00:01tcmalloc: large alloc 1982251008 bytes == 0x55fa91bba000 @  0x7f225d4a31e7 0x55f99f2d5ae7 0x55f99f2a002c 0x55f99f38017a 0x55f99f2a2e4d 0x55f99f394c0d 0x55f99f3170d8 0x55f99f311c35 0x55f99f2a473a 0x55f99f312d67 0x55f99f311c35 0x55f99f2a473a 0x55f99f312d67 0x55f99f311c35 0x55f99f2a473a 0x55f99f312d67 0x55f99f311c35 0x55f99f2a473a 0x55f99f312d67 0x55f99f311c35 0x55f99f2a473a 0x55f99f312d67 0x55f99f2a465a 0x55f99f312d67 0x55f99f311c35 0x55f99f2a473a 0x55f99f31393b 0x55f99f311c35 0x55f99f2a473a 0x55f99f31393b 0x55f99f311c35\n",
            "tcmalloc: large alloc 2477817856 bytes == 0x55fb7c25a000 @  0x7f225d4a4615 0x55f99f2a002c 0x55f99f38017a 0x55f99f2a2e4d 0x55f99f394c0d 0x55f99f3170d8 0x55f99f311c35 0x55f99f2a473a 0x55f99f312d67 0x55f99f311c35 0x55f99f2a473a 0x55f99f312d67 0x55f99f311c35 0x55f99f2a473a 0x55f99f312d67 0x55f99f311c35 0x55f99f2a473a 0x55f99f312d67 0x55f99f311c35 0x55f99f2a473a 0x55f99f312d67 0x55f99f2a465a 0x55f99f312d67 0x55f99f311c35 0x55f99f2a473a 0x55f99f31393b 0x55f99f311c35 0x55f99f2a473a 0x55f99f31393b 0x55f99f311c35 0x55f99f2a4dd1\n",
            "\u001b[K     |████████████████████████████████| 1982.2 MB 2.2 kB/s \n",
            "\u001b[?25hCollecting torchvision==0.9.0+cu111\n",
            "  Downloading https://download.pytorch.org/whl/cu111/torchvision-0.9.0%2Bcu111-cp37-cp37m-linux_x86_64.whl (17.6 MB)\n",
            "\u001b[K     |████████████████████████████████| 17.6 MB 7.1 kB/s \n",
            "\u001b[?25hCollecting torchaudio==0.8.0\n",
            "  Downloading torchaudio-0.8.0-cp37-cp37m-manylinux1_x86_64.whl (1.9 MB)\n",
            "\u001b[K     |████████████████████████████████| 1.9 MB 41.5 MB/s \n",
            "\u001b[?25hCollecting torchtext==0.9\n",
            "  Downloading torchtext-0.9.0-cp37-cp37m-manylinux1_x86_64.whl (7.1 MB)\n",
            "\u001b[K     |████████████████████████████████| 7.1 MB 35.3 MB/s \n",
            "\u001b[?25hRequirement already satisfied: numpy in /usr/local/lib/python3.7/dist-packages (from torch==1.8.0+cu111) (1.19.5)\n",
            "Requirement already satisfied: typing-extensions in /usr/local/lib/python3.7/dist-packages (from torch==1.8.0+cu111) (3.7.4.3)\n",
            "Requirement already satisfied: pillow>=4.1.1 in /usr/local/lib/python3.7/dist-packages (from torchvision==0.9.0+cu111) (7.1.2)\n",
            "Requirement already satisfied: tqdm in /usr/local/lib/python3.7/dist-packages (from torchtext==0.9) (4.41.1)\n",
            "Requirement already satisfied: requests in /usr/local/lib/python3.7/dist-packages (from torchtext==0.9) (2.23.0)\n",
            "Requirement already satisfied: certifi>=2017.4.17 in /usr/local/lib/python3.7/dist-packages (from requests->torchtext==0.9) (2021.5.30)\n",
            "Requirement already satisfied: idna<3,>=2.5 in /usr/local/lib/python3.7/dist-packages (from requests->torchtext==0.9) (2.10)\n",
            "Requirement already satisfied: chardet<4,>=3.0.2 in /usr/local/lib/python3.7/dist-packages (from requests->torchtext==0.9) (3.0.4)\n",
            "Requirement already satisfied: urllib3!=1.25.0,!=1.25.1,<1.26,>=1.21.1 in /usr/local/lib/python3.7/dist-packages (from requests->torchtext==0.9) (1.24.3)\n",
            "Installing collected packages: torch, torchvision, torchtext, torchaudio\n",
            "  Attempting uninstall: torch\n",
            "    Found existing installation: torch 1.9.0+cu102\n",
            "    Uninstalling torch-1.9.0+cu102:\n",
            "      Successfully uninstalled torch-1.9.0+cu102\n",
            "  Attempting uninstall: torchvision\n",
            "    Found existing installation: torchvision 0.10.0+cu102\n",
            "    Uninstalling torchvision-0.10.0+cu102:\n",
            "      Successfully uninstalled torchvision-0.10.0+cu102\n",
            "  Attempting uninstall: torchtext\n",
            "    Found existing installation: torchtext 0.10.0\n",
            "    Uninstalling torchtext-0.10.0:\n",
            "      Successfully uninstalled torchtext-0.10.0\n",
            "Successfully installed torch-1.8.0+cu111 torchaudio-0.8.0 torchtext-0.9.0 torchvision-0.9.0+cu111\n"
          ],
          "name": "stdout"
        }
      ]
    },
    {
      "cell_type": "code",
      "metadata": {
        "colab": {
          "base_uri": "https://localhost:8080/"
        },
        "id": "xq-tDZVks7ZD",
        "outputId": "96216f3e-9bde-4b3f-cd62-38c8e61a1cfa"
      },
      "source": [
        "# Downloading our corpus\n",
        "# ! opus_read -d JW300 -s $src -t $tgt -wm moses -w jw300.$src jw300.$tgt -q\n",
        "! opus_read -d JW300 -s $src -t $tgt -wm moses -w jw300.$src jw300.$tgt -q -ln -S 1 -T 1\n",
        "\n",
        "\n",
        "# extract the corpus file\n",
        "! gunzip JW300_latest_xml_$src-$tgt.xml.gz"
      ],
      "execution_count": 6,
      "outputs": [
        {
          "output_type": "stream",
          "text": [
            "\n",
            "Alignment file /proj/nlpl/data/OPUS/JW300/latest/xml/fr-ln.xml.gz not found. The following files are available for downloading:\n",
            "\n",
            "   6 MB https://object.pouta.csc.fi/OPUS-JW300/v1b/xml/fr-ln.xml.gz\n",
            " 278 MB https://object.pouta.csc.fi/OPUS-JW300/v1b/xml/fr.zip\n",
            "  60 MB https://object.pouta.csc.fi/OPUS-JW300/v1b/xml/ln.zip\n",
            "\n",
            " 345 MB Total size\n",
            "./JW300_latest_xml_fr-ln.xml.gz ... 100% of 6 MB\n",
            "./JW300_latest_xml_fr.zip ... 100% of 278 MB\n",
            "./JW300_latest_xml_ln.zip ... 100% of 60 MB\n"
          ],
          "name": "stdout"
        }
      ]
    },
    {
      "cell_type": "code",
      "metadata": {
        "colab": {
          "base_uri": "https://localhost:8080/"
        },
        "id": "n48GDRnP8y2G",
        "outputId": "43b26932-7ca3-4d90-aae3-afa986292518"
      },
      "source": [
        "# Download the global test set.\n",
        "# ! wget https://raw.githubusercontent.com/juliakreutzer/masakhane/master/jw300_utils/test/test.en-any.en\n",
        "! wget https://raw.githubusercontent.com/ai-drc/RDC-Mobongoli/main/jw300_utils/test/test.$src-any.$src\n",
        "  \n",
        "# And the specific test set for this language pair.\n",
        "os.environ[\"trg\"] = target_language \n",
        "os.environ[\"src\"] = source_language \n",
        "\n",
        "! wget https://raw.githubusercontent.com/ai-drc/RDC-Mobongoli/main/jw300_utils/test/test.$src-$trg.$src \n",
        "! mv test.$src-$trg.$src test.$src\n",
        "\n",
        "! wget https://raw.githubusercontent.com/ai-drc/RDC-Mobongoli/main/jw300_utils/test/test.$src-$trg.$trg\n",
        "! mv test.$src-$trg.$trg test.$trg"
      ],
      "execution_count": 7,
      "outputs": [
        {
          "output_type": "stream",
          "text": [
            "--2021-07-23 16:54:07--  https://raw.githubusercontent.com/ai-drc/RDC-Mobongoli/main/jw300_utils/test/test.fr-any.fr\n",
            "Resolving raw.githubusercontent.com (raw.githubusercontent.com)... 185.199.108.133, 185.199.109.133, 185.199.110.133, ...\n",
            "Connecting to raw.githubusercontent.com (raw.githubusercontent.com)|185.199.108.133|:443... connected.\n",
            "HTTP request sent, awaiting response... 200 OK\n",
            "Length: 377235 (368K) [text/plain]\n",
            "Saving to: ‘test.fr-any.fr’\n",
            "\n",
            "\rtest.fr-any.fr        0%[                    ]       0  --.-KB/s               \rtest.fr-any.fr      100%[===================>] 368.39K  --.-KB/s    in 0.005s  \n",
            "\n",
            "2021-07-23 16:54:08 (69.8 MB/s) - ‘test.fr-any.fr’ saved [377235/377235]\n",
            "\n",
            "--2021-07-23 16:54:08--  https://raw.githubusercontent.com/ai-drc/RDC-Mobongoli/main/jw300_utils/test/test.fr-ln.fr\n",
            "Resolving raw.githubusercontent.com (raw.githubusercontent.com)... 185.199.108.133, 185.199.110.133, 185.199.109.133, ...\n",
            "Connecting to raw.githubusercontent.com (raw.githubusercontent.com)|185.199.108.133|:443... connected.\n",
            "HTTP request sent, awaiting response... 200 OK\n",
            "Length: 252361 (246K) [text/plain]\n",
            "Saving to: ‘test.fr-ln.fr’\n",
            "\n",
            "test.fr-ln.fr       100%[===================>] 246.45K  --.-KB/s    in 0.006s  \n",
            "\n",
            "2021-07-23 16:54:08 (41.2 MB/s) - ‘test.fr-ln.fr’ saved [252361/252361]\n",
            "\n",
            "--2021-07-23 16:54:08--  https://raw.githubusercontent.com/ai-drc/RDC-Mobongoli/main/jw300_utils/test/test.fr-ln.ln\n",
            "Resolving raw.githubusercontent.com (raw.githubusercontent.com)... 185.199.109.133, 185.199.108.133, 185.199.110.133, ...\n",
            "Connecting to raw.githubusercontent.com (raw.githubusercontent.com)|185.199.109.133|:443... connected.\n",
            "HTTP request sent, awaiting response... 200 OK\n",
            "Length: 242565 (237K) [text/plain]\n",
            "Saving to: ‘test.fr-ln.ln’\n",
            "\n",
            "test.fr-ln.ln       100%[===================>] 236.88K  --.-KB/s    in 0.008s  \n",
            "\n",
            "2021-07-23 16:54:08 (28.1 MB/s) - ‘test.fr-ln.ln’ saved [242565/242565]\n",
            "\n"
          ],
          "name": "stdout"
        }
      ]
    },
    {
      "cell_type": "code",
      "metadata": {
        "colab": {
          "base_uri": "https://localhost:8080/"
        },
        "id": "NqDG-CI28y2L",
        "outputId": "fdfc9619-9ff6-4c18-fcfd-8b04847cb58a"
      },
      "source": [
        "# Read the test data to filter from train and dev splits.\n",
        "# Store english portion in set for quick filtering checks.\n",
        "en_test_sents = set()\n",
        "filter_test_sents = f\"test.{source_language}-any.{source_language}\"\n",
        "j = 0\n",
        "with open(filter_test_sents) as f:\n",
        "  for line in f:\n",
        "    en_test_sents.add(line.strip())\n",
        "    j += 1\n",
        "print('Loaded {} global test sentences to filter from the training/dev data.'.format(j))"
      ],
      "execution_count": 8,
      "outputs": [
        {
          "output_type": "stream",
          "text": [
            "Loaded 3974 global test sentences to filter from the training/dev data.\n"
          ],
          "name": "stdout"
        }
      ]
    },
    {
      "cell_type": "code",
      "metadata": {
        "colab": {
          "base_uri": "https://localhost:8080/",
          "height": 158
        },
        "id": "3CNdwLBCfSIl",
        "outputId": "dd5d6e8d-25cd-46e0-e98a-7083d8cf3e81"
      },
      "source": [
        "import pandas as pd\n",
        "\n",
        "# TMX file to dataframe\n",
        "source_file = 'jw300.' + source_language\n",
        "target_file = 'jw300.' + target_language\n",
        "\n",
        "source = []\n",
        "target = []\n",
        "skip_lines = []  # Collect the line numbers of the source portion to skip the same lines for the target portion.\n",
        "with open(source_file) as f:\n",
        "    for i, line in enumerate(f):\n",
        "        # Skip sentences that are contained in the test set.\n",
        "        if line.strip() not in en_test_sents:\n",
        "            source.append(line.strip())\n",
        "        else:\n",
        "            skip_lines.append(i)             \n",
        "with open(target_file) as f:\n",
        "    for j, line in enumerate(f):\n",
        "        # Only add to corpus if corresponding source was not skipped.\n",
        "        if j not in skip_lines:\n",
        "            target.append(line.strip())\n",
        "    \n",
        "print('Loaded data and skipped {}/{} lines since contained in test set.'.format(len(skip_lines), i))\n",
        "    \n",
        "df = pd.DataFrame(zip(source, target), columns=['source_sentence', 'target_sentence'])\n",
        "# if you get TypeError: data argument can't be an iterator is because of your zip version run this below\n",
        "#df = pd.DataFrame(list(zip(source, target)), columns=['source_sentence', 'target_sentence'])\n",
        "df.head(3)"
      ],
      "execution_count": 9,
      "outputs": [
        {
          "output_type": "stream",
          "text": [
            "Loaded data and skipped 6474/519289 lines since contained in test set.\n"
          ],
          "name": "stdout"
        },
        {
          "output_type": "execute_result",
          "data": {
            "text/html": [
              "<div>\n",
              "<style scoped>\n",
              "    .dataframe tbody tr th:only-of-type {\n",
              "        vertical-align: middle;\n",
              "    }\n",
              "\n",
              "    .dataframe tbody tr th {\n",
              "        vertical-align: top;\n",
              "    }\n",
              "\n",
              "    .dataframe thead th {\n",
              "        text-align: right;\n",
              "    }\n",
              "</style>\n",
              "<table border=\"1\" class=\"dataframe\">\n",
              "  <thead>\n",
              "    <tr style=\"text-align: right;\">\n",
              "      <th></th>\n",
              "      <th>source_sentence</th>\n",
              "      <th>target_sentence</th>\n",
              "    </tr>\n",
              "  </thead>\n",
              "  <tbody>\n",
              "    <tr>\n",
              "      <th>0</th>\n",
              "      <td>Qui veut être millionnaire ?</td>\n",
              "      <td>Nani alingi kozala milionere ?</td>\n",
              "    </tr>\n",
              "    <tr>\n",
              "      <th>1</th>\n",
              "      <td>IL SEMBLE que ce soit là le désir de tout un c...</td>\n",
              "      <td>EYANO emonani lokola ete , wana ezali mposa ya...</td>\n",
              "    </tr>\n",
              "    <tr>\n",
              "      <th>2</th>\n",
              "      <td>Or la solution la plus simple , dans l’esprit ...</td>\n",
              "      <td>Nzokande , na makanisi ya bato , nzela ya pɛtɛ...</td>\n",
              "    </tr>\n",
              "  </tbody>\n",
              "</table>\n",
              "</div>"
            ],
            "text/plain": [
              "                                     source_sentence                                    target_sentence\n",
              "0                       Qui veut être millionnaire ?                     Nani alingi kozala milionere ?\n",
              "1  IL SEMBLE que ce soit là le désir de tout un c...  EYANO emonani lokola ete , wana ezali mposa ya...\n",
              "2  Or la solution la plus simple , dans l’esprit ...  Nzokande , na makanisi ya bato , nzela ya pɛtɛ..."
            ]
          },
          "metadata": {
            "tags": []
          },
          "execution_count": 9
        }
      ]
    },
    {
      "cell_type": "markdown",
      "metadata": {
        "id": "YkuK3B4p2AkN"
      },
      "source": [
        "## Pre-processing and export\n",
        "\n",
        "It is generally a good idea to remove duplicate translations and conflicting translations from the corpus. In practice, these public corpora include some number of these that need to be cleaned.\n",
        "\n",
        "In addition we will split our data into dev/test/train and export to the filesystem."
      ]
    },
    {
      "cell_type": "code",
      "metadata": {
        "colab": {
          "base_uri": "https://localhost:8080/"
        },
        "id": "M_2ouEOH1_1q",
        "outputId": "6de2d89e-5812-4f85-f8c0-8cff54d99f9a"
      },
      "source": [
        "# drop duplicate translations\n",
        "df_pp = df.drop_duplicates()\n",
        "\n",
        "# drop conflicting translations\n",
        "# (this is optional and something that you might want to comment out \n",
        "# depending on the size of your corpus)\n",
        "df_pp.drop_duplicates(subset='source_sentence', inplace=True)\n",
        "df_pp.drop_duplicates(subset='target_sentence', inplace=True)\n",
        "\n",
        "# Shuffle the data to remove bias in dev set selection.\n",
        "df_pp = df_pp.sample(frac=1, random_state=seed).reset_index(drop=True)"
      ],
      "execution_count": 10,
      "outputs": [
        {
          "output_type": "stream",
          "text": [
            "/usr/local/lib/python3.7/dist-packages/ipykernel_launcher.py:7: SettingWithCopyWarning: \n",
            "A value is trying to be set on a copy of a slice from a DataFrame\n",
            "\n",
            "See the caveats in the documentation: https://pandas.pydata.org/pandas-docs/stable/user_guide/indexing.html#returning-a-view-versus-a-copy\n",
            "  import sys\n",
            "/usr/local/lib/python3.7/dist-packages/ipykernel_launcher.py:8: SettingWithCopyWarning: \n",
            "A value is trying to be set on a copy of a slice from a DataFrame\n",
            "\n",
            "See the caveats in the documentation: https://pandas.pydata.org/pandas-docs/stable/user_guide/indexing.html#returning-a-view-versus-a-copy\n",
            "  \n"
          ],
          "name": "stderr"
        }
      ]
    },
    {
      "cell_type": "code",
      "metadata": {
        "colab": {
          "base_uri": "https://localhost:8080/"
        },
        "id": "Z_1BwAApEtMk",
        "outputId": "e53c7a6e-dc38-4dde-98d5-b324bd846c81"
      },
      "source": [
        "# Install fuzzy wuzzy to remove \"almost duplicate\" sentences in the\n",
        "# test and training sets.\n",
        "! pip install fuzzywuzzy\n",
        "! pip install python-Levenshtein\n",
        "import time\n",
        "from fuzzywuzzy import process\n",
        "import numpy as np\n",
        "from os import cpu_count\n",
        "from functools import partial\n",
        "from multiprocessing import Pool\n",
        "\n",
        "\n",
        "# reset the index of the training set after previous filtering\n",
        "df_pp.reset_index(drop=False, inplace=True)\n",
        "\n",
        "# Remove samples from the training data set if they \"almost overlap\" with the\n",
        "# samples in the test set.\n",
        "\n",
        "# Filtering function. Adjust pad to narrow down the candidate matches to\n",
        "# within a certain length of characters of the given sample.\n",
        "def fuzzfilter(sample, candidates, pad):\n",
        "  candidates = [x for x in candidates if len(x) <= len(sample)+pad and len(x) >= len(sample)-pad] \n",
        "  if len(candidates) > 0:\n",
        "    return process.extractOne(sample, candidates)[1]\n",
        "  else:\n",
        "    return np.nan"
      ],
      "execution_count": 11,
      "outputs": [
        {
          "output_type": "stream",
          "text": [
            "Collecting fuzzywuzzy\n",
            "  Downloading fuzzywuzzy-0.18.0-py2.py3-none-any.whl (18 kB)\n",
            "Installing collected packages: fuzzywuzzy\n",
            "Successfully installed fuzzywuzzy-0.18.0\n",
            "Collecting python-Levenshtein\n",
            "  Downloading python-Levenshtein-0.12.2.tar.gz (50 kB)\n",
            "\u001b[K     |████████████████████████████████| 50 kB 6.7 MB/s \n",
            "\u001b[?25hRequirement already satisfied: setuptools in /usr/local/lib/python3.7/dist-packages (from python-Levenshtein) (57.2.0)\n",
            "Building wheels for collected packages: python-Levenshtein\n",
            "  Building wheel for python-Levenshtein (setup.py) ... \u001b[?25l\u001b[?25hdone\n",
            "  Created wheel for python-Levenshtein: filename=python_Levenshtein-0.12.2-cp37-cp37m-linux_x86_64.whl size=149866 sha256=c0e3ac392cbcdc77a60f4b6e30cff5693bb881a14ee81db24da9c95f0fb3c8dd\n",
            "  Stored in directory: /root/.cache/pip/wheels/05/5f/ca/7c4367734892581bb5ff896f15027a932c551080b2abd3e00d\n",
            "Successfully built python-Levenshtein\n",
            "Installing collected packages: python-Levenshtein\n",
            "Successfully installed python-Levenshtein-0.12.2\n"
          ],
          "name": "stdout"
        }
      ]
    },
    {
      "cell_type": "code",
      "metadata": {
        "id": "92EsgTaY3B4H"
      },
      "source": [
        "# start_time = time.time()\n",
        "# ### iterating over pandas dataframe rows is not recomended, let use multi processing to apply the function\n",
        "\n",
        "# with Pool(cpu_count()-1) as pool:\n",
        "#     scores = pool.map(partial(fuzzfilter, candidates=list(en_test_sents), pad=5), df_pp['source_sentence'])\n",
        "# hours, rem = divmod(time.time() - start_time, 3600)\n",
        "# minutes, seconds = divmod(rem, 60)\n",
        "# print(\"done in {}h:{}min:{}seconds\".format(hours, minutes, seconds))\n",
        "\n",
        "# # Filter out \"almost overlapping samples\"\n",
        "# df_pp = df_pp.assign(scores=scores)\n",
        "# df_pp = df_pp[df_pp['scores'] < 95]"
      ],
      "execution_count": null,
      "outputs": []
    },
    {
      "cell_type": "code",
      "metadata": {
        "colab": {
          "base_uri": "https://localhost:8080/"
        },
        "id": "hxxBOCA-xXhy",
        "outputId": "1cd95dbc-da0b-47e1-e142-c0616541e448"
      },
      "source": [
        "# This section does the split between train/dev for the parallel corpora then saves them as separate files\n",
        "# We use 1000 dev test and the given test set.\n",
        "import csv\n",
        "\n",
        "# Do the split between dev/train and create parallel corpora\n",
        "num_dev_patterns = 1000\n",
        "\n",
        "# Optional: lower case the corpora - this will make it easier to generalize, but without proper casing.\n",
        "if lc:  # Julia: making lowercasing optional\n",
        "    df_pp[\"source_sentence\"] = df_pp[\"source_sentence\"].str.lower()\n",
        "    df_pp[\"target_sentence\"] = df_pp[\"target_sentence\"].str.lower()\n",
        "\n",
        "# Julia: test sets are already generated\n",
        "dev = df_pp.tail(num_dev_patterns) # Herman: Error in original\n",
        "stripped = df_pp.drop(df_pp.tail(num_dev_patterns).index)\n",
        "\n",
        "with open(\"train.\"+source_language, \"w\") as src_file, open(\"train.\"+target_language, \"w\") as trg_file:\n",
        "  for index, row in stripped.iterrows():\n",
        "    src_file.write(row[\"source_sentence\"]+\"\\n\")\n",
        "    trg_file.write(row[\"target_sentence\"]+\"\\n\")\n",
        "    \n",
        "with open(\"dev.\"+source_language, \"w\") as src_file, open(\"dev.\"+target_language, \"w\") as trg_file:\n",
        "  for index, row in dev.iterrows():\n",
        "    src_file.write(row[\"source_sentence\"]+\"\\n\")\n",
        "    trg_file.write(row[\"target_sentence\"]+\"\\n\")\n",
        "\n",
        "#stripped[[\"source_sentence\"]].to_csv(\"train.\"+source_language, header=False, index=False)  # Herman: Added `header=False` everywhere\n",
        "#stripped[[\"target_sentence\"]].to_csv(\"train.\"+target_language, header=False, index=False)  # Julia: Problematic handling of quotation marks.\n",
        "\n",
        "#dev[[\"source_sentence\"]].to_csv(\"dev.\"+source_language, header=False, index=False)\n",
        "#dev[[\"target_sentence\"]].to_csv(\"dev.\"+target_language, header=False, index=False)\n",
        "\n",
        "# Doublecheck the format below. There should be no extra quotation marks or weird characters.\n",
        "! head train.*\n",
        "! head dev.*"
      ],
      "execution_count": 12,
      "outputs": [
        {
          "output_type": "stream",
          "text": [
            "==> train.fr <==\n",
            "Un pécheur repentant est - ​ il exempté de toutes les conséquences de sa mauvaise conduite sous prétexte que Jéhovah est prêt à pardonner ?\n",
            "Quand j’ai repris connaissance , j’avais apparemment ce que je voulais : le pouvoir de guérir .\n",
            "J’ai beaucoup de bons souvenirs de cette époque .\n",
            "Incapables désormais de communiquer entre eux , ils renoncèrent à leur projet et furent dispersés “ de là sur toute la surface de la terre ” .\n",
            "ACHAÏE\n",
            "En ce qui concerne le manger et le boire , à quel examen personnel pourrions - ​ nous nous livrer ?\n",
            "Maintenant , comment se présente le bilan de la domination plusieurs fois millénaire de l’homme ?\n",
            "Ils proclament la bonne nouvelle eux - ​ mêmes et aident des humains à la répandre .\n",
            "Jéhovah nous a de surcroît accordé d’avoir deux enfants — un garçon et une fille .\n",
            "Est - ​ ce une question sans importance ?\n",
            "\n",
            "==> train.ln <==\n",
            "Lokola Yehova alimbisaka , yango elingi nde koloba ete mosumuki oyo abongoli motema akozwa mbeba moko te ya etamboli mabe na ye ?\n",
            "Ntango nalamukaki , namonaki lokola nazwi eloko oyo nazalaki koluka : nguya ya kobikisa bato .\n",
            "Natikalá na basuvenire ya malamu ya ntango wana .\n",
            "Lokola bakokaki lisusu kosolola te moko na mosusu , basundolaki mosala oyo babandaki mpe bapalanganaki “ bipai nyonso na mokili . ”\n",
            "AKAYA\n",
            "Na likambo nini tosengeli komitalela na ntina etali kolya mpe komela ?\n",
            "Bongo boyangeli ya bato ebimisaki matomba nini na boumeli ya mibu nkóto na nkóto ?\n",
            "Bango moko bayebisaka nsango malamu , mpe basalisaka basusu na mosala ya kopalanganisa nsango malamu .\n",
            "Yehova apamboli mpe ngai ná Anny ndenge apesi biso bana mibale , ya mwasi ná ya mobali .\n",
            "Yango ezali likambo moke ?\n",
            "==> dev.fr <==\n",
            "Les brebis se perdent facilement sans leur berger .\n",
            "Dès 1994 , l’année où l’œuvre a été à nouveau reconnue officiellement , les frères ont tout fait pour avoir des Salles du Royaume convenables .\n",
            "Cela me fait d’ailleurs penser à ce que dit la Bible : “ Qu’ils sont jolis les pieds de ceux qui annoncent des bonnes nouvelles de choses bonnes !\n",
            "Elles nous indiquent que nous vivons “ les derniers jours ” de l’actuel système de choses méchant .\n",
            "Si nous adoptions envers ce pécheur repentant qui a été réintégré une attitude intransigeante et refusions de lui pardonner , nous nous opposerions en réalité à Jéhovah .\n",
            "Malheureusement , vivant dans le monde méchant de Satan , nous subissons de très fortes pressions .\n",
            "Seule la vérité biblique peut alléger le chagrin .\n",
            "” J’étais alors déterminé à faire des études supérieures et à acquérir ainsi quelque chose que jamais personne ne pourrait me voler .\n",
            "Leurs ingénieux gyroscopes leur offrent une mobilité supérieure à celle de n’importe quelle autre famille d’insectes volants .\n",
            "La classe moderne du guetteur , c’est - à - dire le reste oint , et ses compagnons ne devraient jamais se retenir de prêcher la bonne nouvelle du Royaume et d’avertir les gens de la venue de la “ grande tribulation ” . — Matthieu 24 : 21 .\n",
            "\n",
            "==> dev.ln <==\n",
            "Soki mpate ezangi mobateli , mbala mingi ebungaka .\n",
            "Uta 1994 ntango mosala ya kosakola epesamaki lisusu ndingisa na Leta , bandeko bazalaki na mposa makasi ya kozwa Ndako ya Bokonzi oyo ebongi .\n",
            "Kasi nakanisaka lisusu likambo oyo Biblia elobi : “ Oyo nde kitoko makolo ya baoyo bazali kosakola nsango malamu ya makambo ya malamu ! ”\n",
            "Yango ezali komonisa biso ete tozali kobika na “ mikolo ya nsuka ” ya ebongiseli mabe ya biloko .\n",
            "Ya solo , soki tozali motema makasi mpe toboyi kolimbisa ekomonisa ete tozali kotɛmɛla Yehova .\n",
            "Likambo ya mawa , lokola tozali na mokili mabe ya Satana , tokutanaka na ebele ya mikakatano oyo ekoki kolekela biso .\n",
            "Kaka mateya ya Biblia nde ekoki kolongola mawa\n",
            "Nazalaki na mposa makasi ya kotánga kelasi minene mpe kozwa eloko oyo moto akoki koyiba yango te .\n",
            "Gyroscope na yango , oyo esalemi na mayele mpenza , esalisaka yango epumbwaka koleka nyama nkeke nyonso oyo epumbwaka .\n",
            "Mokɛngɛli ya mikolo na biso , elingi koloba baklisto bapakolami oyo bazali naino awa na mabelé , elongo na baninga na bango , basengeli ata moke te kotika kosakola nsango malamu ya Bokonzi mpe kokebisa bato na ntina na “ bolɔzi moko monene ” oyo ezali koya . — Matai 24 : 21 .\n"
          ],
          "name": "stdout"
        }
      ]
    },
    {
      "cell_type": "markdown",
      "metadata": {
        "id": "epeCydmCyS8X"
      },
      "source": [
        "\n",
        "\n",
        "---\n",
        "\n",
        "\n",
        "## Installation of JoeyNMT\n",
        "\n",
        "JoeyNMT is a simple, minimalist NMT package which is useful for learning and teaching. Check out the documentation for JoeyNMT [here](https://joeynmt.readthedocs.io)  "
      ]
    },
    {
      "cell_type": "code",
      "metadata": {
        "colab": {
          "base_uri": "https://localhost:8080/"
        },
        "id": "iBRMm4kMxZ8L",
        "outputId": "aa4abbc1-7c81-4611-8abe-0e71ce5dbb1a"
      },
      "source": [
        "# Install JoeyNMT\n",
        "! git clone https://github.com/joeynmt/joeynmt.git\n",
        "! cd joeynmt; pip3 install .\n",
        "# Install Pytorch with GPU support v1.7.1.\n",
        "# ! pip install torch==1.8.0+cu101 -f https://download.pytorch.org/whl/torch_stable.html"
      ],
      "execution_count": 13,
      "outputs": [
        {
          "output_type": "stream",
          "text": [
            "Cloning into 'joeynmt'...\n",
            "remote: Enumerating objects: 3127, done.\u001b[K\n",
            "remote: Counting objects: 100% (176/176), done.\u001b[K\n",
            "remote: Compressing objects: 100% (85/85), done.\u001b[K\n",
            "remote: Total 3127 (delta 101), reused 142 (delta 91), pack-reused 2951\u001b[K\n",
            "Receiving objects: 100% (3127/3127), 8.09 MiB | 22.10 MiB/s, done.\n",
            "Resolving deltas: 100% (2129/2129), done.\n",
            "Processing /content/joeynmt\n",
            "\u001b[33m  DEPRECATION: A future pip version will change local packages to be built in-place without first copying to a temporary directory. We recommend you use --use-feature=in-tree-build to test your packages with this new behavior before it becomes the default.\n",
            "   pip 21.3 will remove support for this functionality. You can find discussion regarding this at https://github.com/pypa/pip/issues/7555.\u001b[0m\n",
            "Requirement already satisfied: future in /usr/local/lib/python3.7/dist-packages (from joeynmt==1.3) (0.16.0)\n",
            "Requirement already satisfied: pillow in /usr/local/lib/python3.7/dist-packages (from joeynmt==1.3) (7.1.2)\n",
            "Collecting numpy==1.20.1\n",
            "  Downloading numpy-1.20.1-cp37-cp37m-manylinux2010_x86_64.whl (15.3 MB)\n",
            "\u001b[K     |████████████████████████████████| 15.3 MB 97 kB/s \n",
            "\u001b[?25hRequirement already satisfied: setuptools>=41.0.0 in /usr/local/lib/python3.7/dist-packages (from joeynmt==1.3) (57.2.0)\n",
            "Requirement already satisfied: torch==1.8.0 in /usr/local/lib/python3.7/dist-packages (from joeynmt==1.3) (1.8.0+cu111)\n",
            "Requirement already satisfied: tensorboard>=1.15 in /usr/local/lib/python3.7/dist-packages (from joeynmt==1.3) (2.5.0)\n",
            "Requirement already satisfied: torchtext==0.9.0 in /usr/local/lib/python3.7/dist-packages (from joeynmt==1.3) (0.9.0)\n",
            "Collecting sacrebleu>=1.3.6\n",
            "  Downloading sacrebleu-1.5.1-py3-none-any.whl (54 kB)\n",
            "\u001b[K     |████████████████████████████████| 54 kB 2.9 MB/s \n",
            "\u001b[?25hCollecting subword-nmt\n",
            "  Downloading subword_nmt-0.3.7-py2.py3-none-any.whl (26 kB)\n",
            "Requirement already satisfied: matplotlib in /usr/local/lib/python3.7/dist-packages (from joeynmt==1.3) (3.2.2)\n",
            "Requirement already satisfied: seaborn in /usr/local/lib/python3.7/dist-packages (from joeynmt==1.3) (0.11.1)\n",
            "Collecting pyyaml>=5.1\n",
            "  Downloading PyYAML-5.4.1-cp37-cp37m-manylinux1_x86_64.whl (636 kB)\n",
            "\u001b[K     |████████████████████████████████| 636 kB 61.2 MB/s \n",
            "\u001b[?25hCollecting pylint\n",
            "  Downloading pylint-2.9.5-py3-none-any.whl (375 kB)\n",
            "\u001b[K     |████████████████████████████████| 375 kB 63.3 MB/s \n",
            "\u001b[?25hCollecting six==1.12\n",
            "  Downloading six-1.12.0-py2.py3-none-any.whl (10 kB)\n",
            "Collecting wrapt==1.11.1\n",
            "  Downloading wrapt-1.11.1.tar.gz (27 kB)\n",
            "Requirement already satisfied: typing-extensions in /usr/local/lib/python3.7/dist-packages (from torch==1.8.0->joeynmt==1.3) (3.7.4.3)\n",
            "Requirement already satisfied: requests in /usr/local/lib/python3.7/dist-packages (from torchtext==0.9.0->joeynmt==1.3) (2.23.0)\n",
            "Requirement already satisfied: tqdm in /usr/local/lib/python3.7/dist-packages (from torchtext==0.9.0->joeynmt==1.3) (4.41.1)\n",
            "Collecting portalocker==2.0.0\n",
            "  Downloading portalocker-2.0.0-py2.py3-none-any.whl (11 kB)\n",
            "Requirement already satisfied: absl-py>=0.4 in /usr/local/lib/python3.7/dist-packages (from tensorboard>=1.15->joeynmt==1.3) (0.12.0)\n",
            "Requirement already satisfied: wheel>=0.26 in /usr/local/lib/python3.7/dist-packages (from tensorboard>=1.15->joeynmt==1.3) (0.36.2)\n",
            "Requirement already satisfied: tensorboard-plugin-wit>=1.6.0 in /usr/local/lib/python3.7/dist-packages (from tensorboard>=1.15->joeynmt==1.3) (1.8.0)\n",
            "Requirement already satisfied: markdown>=2.6.8 in /usr/local/lib/python3.7/dist-packages (from tensorboard>=1.15->joeynmt==1.3) (3.3.4)\n",
            "Requirement already satisfied: google-auth<2,>=1.6.3 in /usr/local/lib/python3.7/dist-packages (from tensorboard>=1.15->joeynmt==1.3) (1.32.1)\n",
            "Requirement already satisfied: tensorboard-data-server<0.7.0,>=0.6.0 in /usr/local/lib/python3.7/dist-packages (from tensorboard>=1.15->joeynmt==1.3) (0.6.1)\n",
            "Requirement already satisfied: werkzeug>=0.11.15 in /usr/local/lib/python3.7/dist-packages (from tensorboard>=1.15->joeynmt==1.3) (1.0.1)\n",
            "Requirement already satisfied: google-auth-oauthlib<0.5,>=0.4.1 in /usr/local/lib/python3.7/dist-packages (from tensorboard>=1.15->joeynmt==1.3) (0.4.4)\n",
            "Requirement already satisfied: grpcio>=1.24.3 in /usr/local/lib/python3.7/dist-packages (from tensorboard>=1.15->joeynmt==1.3) (1.34.1)\n",
            "Requirement already satisfied: protobuf>=3.6.0 in /usr/local/lib/python3.7/dist-packages (from tensorboard>=1.15->joeynmt==1.3) (3.17.3)\n",
            "Requirement already satisfied: pyasn1-modules>=0.2.1 in /usr/local/lib/python3.7/dist-packages (from google-auth<2,>=1.6.3->tensorboard>=1.15->joeynmt==1.3) (0.2.8)\n",
            "Requirement already satisfied: cachetools<5.0,>=2.0.0 in /usr/local/lib/python3.7/dist-packages (from google-auth<2,>=1.6.3->tensorboard>=1.15->joeynmt==1.3) (4.2.2)\n",
            "Requirement already satisfied: rsa<5,>=3.1.4 in /usr/local/lib/python3.7/dist-packages (from google-auth<2,>=1.6.3->tensorboard>=1.15->joeynmt==1.3) (4.7.2)\n",
            "Requirement already satisfied: requests-oauthlib>=0.7.0 in /usr/local/lib/python3.7/dist-packages (from google-auth-oauthlib<0.5,>=0.4.1->tensorboard>=1.15->joeynmt==1.3) (1.3.0)\n",
            "Requirement already satisfied: importlib-metadata in /usr/local/lib/python3.7/dist-packages (from markdown>=2.6.8->tensorboard>=1.15->joeynmt==1.3) (4.6.1)\n",
            "Requirement already satisfied: pyasn1<0.5.0,>=0.4.6 in /usr/local/lib/python3.7/dist-packages (from pyasn1-modules>=0.2.1->google-auth<2,>=1.6.3->tensorboard>=1.15->joeynmt==1.3) (0.4.8)\n",
            "Requirement already satisfied: urllib3!=1.25.0,!=1.25.1,<1.26,>=1.21.1 in /usr/local/lib/python3.7/dist-packages (from requests->torchtext==0.9.0->joeynmt==1.3) (1.24.3)\n",
            "Requirement already satisfied: idna<3,>=2.5 in /usr/local/lib/python3.7/dist-packages (from requests->torchtext==0.9.0->joeynmt==1.3) (2.10)\n",
            "Requirement already satisfied: certifi>=2017.4.17 in /usr/local/lib/python3.7/dist-packages (from requests->torchtext==0.9.0->joeynmt==1.3) (2021.5.30)\n",
            "Requirement already satisfied: chardet<4,>=3.0.2 in /usr/local/lib/python3.7/dist-packages (from requests->torchtext==0.9.0->joeynmt==1.3) (3.0.4)\n",
            "Requirement already satisfied: oauthlib>=3.0.0 in /usr/local/lib/python3.7/dist-packages (from requests-oauthlib>=0.7.0->google-auth-oauthlib<0.5,>=0.4.1->tensorboard>=1.15->joeynmt==1.3) (3.1.1)\n",
            "Requirement already satisfied: zipp>=0.5 in /usr/local/lib/python3.7/dist-packages (from importlib-metadata->markdown>=2.6.8->tensorboard>=1.15->joeynmt==1.3) (3.5.0)\n",
            "Requirement already satisfied: cycler>=0.10 in /usr/local/lib/python3.7/dist-packages (from matplotlib->joeynmt==1.3) (0.10.0)\n",
            "Requirement already satisfied: python-dateutil>=2.1 in /usr/local/lib/python3.7/dist-packages (from matplotlib->joeynmt==1.3) (2.8.1)\n",
            "Requirement already satisfied: pyparsing!=2.0.4,!=2.1.2,!=2.1.6,>=2.0.1 in /usr/local/lib/python3.7/dist-packages (from matplotlib->joeynmt==1.3) (2.4.7)\n",
            "Requirement already satisfied: kiwisolver>=1.0.1 in /usr/local/lib/python3.7/dist-packages (from matplotlib->joeynmt==1.3) (1.3.1)\n",
            "Collecting astroid<2.7,>=2.6.5\n",
            "  Downloading astroid-2.6.5-py3-none-any.whl (231 kB)\n",
            "\u001b[K     |████████████████████████████████| 231 kB 62.4 MB/s \n",
            "\u001b[?25hRequirement already satisfied: toml>=0.7.1 in /usr/local/lib/python3.7/dist-packages (from pylint->joeynmt==1.3) (0.10.2)\n",
            "Collecting isort<6,>=4.2.5\n",
            "  Downloading isort-5.9.2-py3-none-any.whl (105 kB)\n",
            "\u001b[K     |████████████████████████████████| 105 kB 69.2 MB/s \n",
            "\u001b[?25hCollecting mccabe<0.7,>=0.6\n",
            "  Downloading mccabe-0.6.1-py2.py3-none-any.whl (8.6 kB)\n",
            "Collecting typed-ast<1.5,>=1.4.0\n",
            "  Downloading typed_ast-1.4.3-cp37-cp37m-manylinux1_x86_64.whl (743 kB)\n",
            "\u001b[K     |████████████████████████████████| 743 kB 66.5 MB/s \n",
            "\u001b[?25hCollecting lazy-object-proxy>=1.4.0\n",
            "  Downloading lazy_object_proxy-1.6.0-cp37-cp37m-manylinux1_x86_64.whl (55 kB)\n",
            "\u001b[K     |████████████████████████████████| 55 kB 4.2 MB/s \n",
            "\u001b[?25hRequirement already satisfied: scipy>=1.0 in /usr/local/lib/python3.7/dist-packages (from seaborn->joeynmt==1.3) (1.4.1)\n",
            "Requirement already satisfied: pandas>=0.23 in /usr/local/lib/python3.7/dist-packages (from seaborn->joeynmt==1.3) (1.1.5)\n",
            "Requirement already satisfied: pytz>=2017.2 in /usr/local/lib/python3.7/dist-packages (from pandas>=0.23->seaborn->joeynmt==1.3) (2018.9)\n",
            "Building wheels for collected packages: joeynmt, wrapt\n",
            "  Building wheel for joeynmt (setup.py) ... \u001b[?25l\u001b[?25hdone\n",
            "  Created wheel for joeynmt: filename=joeynmt-1.3-py3-none-any.whl size=85116 sha256=e0c11a105e5b8da42d9214e9d6f4b13cb9ca3e68875841a9b955b9137fdd4e19\n",
            "  Stored in directory: /tmp/pip-ephem-wheel-cache-9uci9d2r/wheels/0a/f4/bf/6c9d3b8efbfece6cd209f865be37382b02e7c3584df2e28ca4\n",
            "  Building wheel for wrapt (setup.py) ... \u001b[?25l\u001b[?25hdone\n",
            "  Created wheel for wrapt: filename=wrapt-1.11.1-cp37-cp37m-linux_x86_64.whl size=68448 sha256=5f05e03b8464e7698ceff6239542132c7bc42eeebb55bbbef5894b8c65c28bab\n",
            "  Stored in directory: /root/.cache/pip/wheels/4e/58/9d/da8bad4545585ca52311498ff677647c95c7b690b3040171f8\n",
            "Successfully built joeynmt wrapt\n",
            "Installing collected packages: six, wrapt, typed-ast, numpy, lazy-object-proxy, portalocker, mccabe, isort, astroid, subword-nmt, sacrebleu, pyyaml, pylint, joeynmt\n",
            "  Attempting uninstall: six\n",
            "    Found existing installation: six 1.15.0\n",
            "    Uninstalling six-1.15.0:\n",
            "      Successfully uninstalled six-1.15.0\n",
            "  Attempting uninstall: wrapt\n",
            "    Found existing installation: wrapt 1.12.1\n",
            "    Uninstalling wrapt-1.12.1:\n",
            "      Successfully uninstalled wrapt-1.12.1\n",
            "  Attempting uninstall: numpy\n",
            "    Found existing installation: numpy 1.19.5\n",
            "    Uninstalling numpy-1.19.5:\n",
            "      Successfully uninstalled numpy-1.19.5\n",
            "  Attempting uninstall: pyyaml\n",
            "    Found existing installation: PyYAML 3.13\n",
            "    Uninstalling PyYAML-3.13:\n",
            "      Successfully uninstalled PyYAML-3.13\n",
            "\u001b[31mERROR: pip's dependency resolver does not currently take into account all the packages that are installed. This behaviour is the source of the following dependency conflicts.\n",
            "tensorflow 2.5.0 requires numpy~=1.19.2, but you have numpy 1.20.1 which is incompatible.\n",
            "tensorflow 2.5.0 requires six~=1.15.0, but you have six 1.12.0 which is incompatible.\n",
            "tensorflow 2.5.0 requires wrapt~=1.12.1, but you have wrapt 1.11.1 which is incompatible.\n",
            "google-colab 1.0.0 requires six~=1.15.0, but you have six 1.12.0 which is incompatible.\n",
            "google-api-python-client 1.12.8 requires six<2dev,>=1.13.0, but you have six 1.12.0 which is incompatible.\n",
            "google-api-core 1.26.3 requires six>=1.13.0, but you have six 1.12.0 which is incompatible.\n",
            "datascience 0.10.6 requires folium==0.2.1, but you have folium 0.8.3 which is incompatible.\n",
            "albumentations 0.1.12 requires imgaug<0.2.7,>=0.2.5, but you have imgaug 0.2.9 which is incompatible.\u001b[0m\n",
            "Successfully installed astroid-2.6.5 isort-5.9.2 joeynmt-1.3 lazy-object-proxy-1.6.0 mccabe-0.6.1 numpy-1.20.1 portalocker-2.0.0 pylint-2.9.5 pyyaml-5.4.1 sacrebleu-1.5.1 six-1.12.0 subword-nmt-0.3.7 typed-ast-1.4.3 wrapt-1.11.1\n"
          ],
          "name": "stdout"
        }
      ]
    },
    {
      "cell_type": "markdown",
      "metadata": {
        "id": "AaE77Tcppex9"
      },
      "source": [
        "# Preprocessing the Data into Subword BPE Tokens\n",
        "\n",
        "- One of the most powerful improvements for agglutinative languages (a feature of most Bantu languages) is using BPE tokenization [ (Sennrich, 2015) ](https://arxiv.org/abs/1508.07909).\n",
        "\n",
        "- It was also shown that by optimizing the umber of BPE codes we significantly improve results for low-resourced languages [(Sennrich, 2019)](https://www.aclweb.org/anthology/P19-1021) [(Martinus, 2019)](https://arxiv.org/abs/1906.05685)\n",
        "\n",
        "- Below we have the scripts for doing BPE tokenization of our data. We use 4000 tokens as recommended by [(Sennrich, 2019)](https://www.aclweb.org/anthology/P19-1021). You do not need to change anything. Simply running the below will be suitable. "
      ]
    },
    {
      "cell_type": "code",
      "metadata": {
        "colab": {
          "base_uri": "https://localhost:8080/"
        },
        "id": "H-TyjtmXB1mL",
        "outputId": "82a62ef6-0f39-42b5-8206-f15f2c61149b"
      },
      "source": [
        "# One of the huge boosts in NMT performance was to use a different method of tokenizing. \n",
        "# Usually, NMT would tokenize by words. However, using a method called BPE gave amazing boosts to performance\n",
        "\n",
        "# Do subword NMT\n",
        "from os import path\n",
        "os.environ[\"src\"] = source_language # Sets them in bash as well, since we often use bash scripts\n",
        "os.environ[\"tgt\"] = target_language\n",
        "\n",
        "# Learn BPEs on the training data.\n",
        "os.environ[\"data_path\"] = path.join(\"joeynmt\", \"data\",target_language + source_language ) # Herman! \n",
        "! subword-nmt learn-joint-bpe-and-vocab --input train.$src train.$tgt -s 4000 -o bpe.codes.4000 --write-vocabulary vocab.$src vocab.$tgt\n",
        "\n",
        "# Apply BPE splits to the development and test data.\n",
        "! subword-nmt apply-bpe -c bpe.codes.4000 --vocabulary vocab.$src < train.$src > train.bpe.$src\n",
        "! subword-nmt apply-bpe -c bpe.codes.4000 --vocabulary vocab.$tgt < train.$tgt > train.bpe.$tgt\n",
        "\n",
        "! subword-nmt apply-bpe -c bpe.codes.4000 --vocabulary vocab.$src < dev.$src > dev.bpe.$src\n",
        "! subword-nmt apply-bpe -c bpe.codes.4000 --vocabulary vocab.$tgt < dev.$tgt > dev.bpe.$tgt\n",
        "! subword-nmt apply-bpe -c bpe.codes.4000 --vocabulary vocab.$src < test.$src > test.bpe.$src\n",
        "! subword-nmt apply-bpe -c bpe.codes.4000 --vocabulary vocab.$tgt < test.$tgt > test.bpe.$tgt\n",
        "\n",
        "# Create directory, move everyone we care about to the correct location\n",
        "! mkdir -p $data_path\n",
        "! cp train.* $data_path\n",
        "! cp test.* $data_path\n",
        "! cp dev.* $data_path\n",
        "! cp bpe.codes.4000 $data_path\n",
        "! ls $data_path\n",
        "\n",
        "# Also move everything we care about to a mounted location in google drive (relevant if running in colab) at gdrive_path\n",
        "! cp train.* \"$gdrive_path\"\n",
        "! cp test.* \"$gdrive_path\"\n",
        "! cp dev.* \"$gdrive_path\"\n",
        "! cp bpe.codes.4000 \"$gdrive_path\"\n",
        "! ls \"$gdrive_path\"\n",
        "\n",
        "# Create that vocab using build_vocab\n",
        "! sudo chmod 777 joeynmt/scripts/build_vocab.py\n",
        "! joeynmt/scripts/build_vocab.py joeynmt/data/$tgt$src/train.bpe.$src joeynmt/data/$tgt$src/train.bpe.$tgt --output_path joeynmt/data/$tgt$src/vocab.txt\n",
        "\n",
        "# Some output\n",
        "! echo \"BPE Swahili Sentences\"\n",
        "! tail -n 5 test.bpe.$tgt\n",
        "! echo \"Combined BPE Vocab\"\n",
        "! tail -n 10 joeynmt/data/$tgt$src/vocab.txt  # Herman"
      ],
      "execution_count": 14,
      "outputs": [
        {
          "output_type": "stream",
          "text": [
            "bpe.codes.4000\tdev.fr\t     test.bpe.ln     test.ln\t   train.fr\n",
            "dev.bpe.fr\tdev.ln\t     test.fr\t     train.bpe.fr  train.ln\n",
            "dev.bpe.ln\ttest.bpe.fr  test.fr-any.fr  train.bpe.ln\n",
            "bpe.codes.4000\tdev.fr\t     test.bpe.ln     test.ln\t   train.fr\n",
            "dev.bpe.fr\tdev.ln\t     test.fr\t     train.bpe.fr  train.ln\n",
            "dev.bpe.ln\ttest.bpe.fr  test.fr-any.fr  train.bpe.ln\n",
            "BPE Swahili Sentences\n",
            "N@@ alim@@ bolaki ete Nzambe as@@ ang@@ isaki ba@@ g@@ az@@ e na mopɛpɛ oyo ez@@ ingi mabele na ek@@ ɛng@@ ɛ ndenge wana , na ndenge oyo ebongi mpenza mpo na biso . ”\n",
            "Mpe o@@ koloba nini mpo na mak@@ ɛl@@ ɛlɛ ya mp@@ ɛ@@ p@@ ɔ ná koy@@ emba ya nd@@ ɛkɛ ?\n",
            "Si@@ koyo , nani al@@ eki na mayele : moto oyo asal@@ á mp@@ ɛ@@ p@@ ɔ to Mozalisi ya band@@ ɛkɛ ? ”\n",
            "Yango wana , ezali na ntina mingi ete baboti bá@@ koba koteya bana na bango . ”\n",
            "Tiká bana na yo bá@@ mona ete Yehova azali mpenza solo na miso na yo .Combined BPE Vocab\n",
            "ù@@\n",
            "Û\n",
            "ʽ\n",
            "ă\n",
            "·\n",
            "ingomba\n",
            "ǎ\n",
            "ś\n",
            "ependant\n",
            "Babil@@\n"
          ],
          "name": "stdout"
        }
      ]
    },
    {
      "cell_type": "code",
      "metadata": {
        "colab": {
          "base_uri": "https://localhost:8080/"
        },
        "id": "IlMitUHR8Qy-",
        "outputId": "ed1f8238-7b69-4e54-e65d-b2dab2f35d00"
      },
      "source": [
        "# Also move everything we care about to a mounted location in google drive (relevant if running in colab) at gdrive_path\n",
        "! cp train.* \"$gdrive_path\"\n",
        "! cp test.* \"$gdrive_path\"\n",
        "! cp dev.* \"$gdrive_path\"\n",
        "! cp bpe.codes.4000 \"$gdrive_path\"\n",
        "! ls \"$gdrive_path\""
      ],
      "execution_count": 15,
      "outputs": [
        {
          "output_type": "stream",
          "text": [
            "bpe.codes.4000\tdev.fr\t     test.bpe.ln     test.ln\t   train.fr\n",
            "dev.bpe.fr\tdev.ln\t     test.fr\t     train.bpe.fr  train.ln\n",
            "dev.bpe.ln\ttest.bpe.fr  test.fr-any.fr  train.bpe.ln\n"
          ],
          "name": "stdout"
        }
      ]
    },
    {
      "cell_type": "markdown",
      "metadata": {
        "id": "Ixmzi60WsUZ8"
      },
      "source": [
        "# Creating the JoeyNMT Config\n",
        "\n",
        "JoeyNMT requires a yaml config. We provide a template below. We've also set a number of defaults with it, that you may play with!\n",
        "\n",
        "- We used Transformer architecture \n",
        "- We set our dropout to reasonably high: 0.3 (recommended in  [(Sennrich, 2019)](https://www.aclweb.org/anthology/P19-1021))\n",
        "\n",
        "Things worth playing with:\n",
        "- The batch size (also recommended to change for low-resourced languages)\n",
        "- The number of epochs (we've set it at 30 just so it runs in about an hour, for testing purposes)\n",
        "- The decoder options (beam_size, alpha)\n",
        "- Evaluation metrics (BLEU versus Crhf4)"
      ]
    },
    {
      "cell_type": "code",
      "metadata": {
        "id": "h8TMgv1p3L1z"
      },
      "source": [
        "# This creates the config file for our JoeyNMT system. It might seem overwhelming so we've provided a couple of useful parameters you'll need to update\n",
        "# (You can of course play with all the parameters if you'd like!)\n",
        "\n",
        "name = '%s%s' % (target_language, source_language)\n",
        "# gdrive_path = os.environ[\"gdrive_path\"]\n",
        "\n",
        "# Create the config\n",
        "config = \"\"\"\n",
        "name: \"{target_language}{source_language}_reverse_transformer\"\n",
        "\n",
        "data:\n",
        "    src: \"{target_language}\"\n",
        "    trg: \"{source_language}\"\n",
        "    train: \"data/{name}/train.bpe\"\n",
        "    dev:   \"data/{name}/dev.bpe\"\n",
        "    test:  \"data/{name}/test.bpe\"\n",
        "    level: \"bpe\"\n",
        "    lowercase: False\n",
        "    max_sent_length: 100\n",
        "    src_vocab: \"data/{name}/vocab.txt\"\n",
        "    trg_vocab: \"data/{name}/vocab.txt\"\n",
        "\n",
        "testing:\n",
        "    beam_size: 5\n",
        "    alpha: 1.0\n",
        "\n",
        "training:\n",
        "    #load_model: \"{gdrive_path}/models/{name}_transformer/1.ckpt\" # if uncommented, load a pre-trained model from this checkpoint\n",
        "    random_seed: 42\n",
        "    optimizer: \"adam\"\n",
        "    normalization: \"tokens\"\n",
        "    adam_betas: [0.9, 0.999] \n",
        "    scheduling: \"plateau\"           # TODO: try switching from plateau to Noam scheduling\n",
        "    patience: 5                     # For plateau: decrease learning rate by decrease_factor if validation score has not improved for this many validation rounds.\n",
        "    learning_rate_factor: 0.5       # factor for Noam scheduler (used with Transformer)\n",
        "    learning_rate_warmup: 1000      # warmup steps for Noam scheduler (used with Transformer)\n",
        "    decrease_factor: 0.7\n",
        "    loss: \"crossentropy\"\n",
        "    learning_rate: 0.0003\n",
        "    learning_rate_min: 0.00000001\n",
        "    weight_decay: 0.0\n",
        "    label_smoothing: 0.1\n",
        "    batch_size: 4096\n",
        "    batch_type: \"token\"\n",
        "    eval_batch_size: 3600\n",
        "    eval_batch_type: \"token\"\n",
        "    batch_multiplier: 1\n",
        "    early_stopping_metric: \"ppl\"\n",
        "    epochs: 5                  # TODO: Decrease for when playing around and checking of working. Around 30 is sufficient to check if its working at all\n",
        "    validation_freq: 1000          # TODO: Set to at least once per epoch.\n",
        "    logging_freq: 100\n",
        "    eval_metric: \"bleu\"\n",
        "    model_dir: \"models/{name}_reverse_transformer\"\n",
        "    overwrite: True              # TODO: Set to True if you want to overwrite possibly existing models. \n",
        "    shuffle: True\n",
        "    use_cuda: True\n",
        "    max_output_length: 100\n",
        "    print_valid_sents: [0, 1, 2, 3]\n",
        "    keep_last_ckpts: 3\n",
        "\n",
        "model:\n",
        "    initializer: \"xavier\"\n",
        "    bias_initializer: \"zeros\"\n",
        "    init_gain: 1.0\n",
        "    embed_initializer: \"xavier\"\n",
        "    embed_init_gain: 1.0\n",
        "    tied_embeddings: True\n",
        "    tied_softmax: True\n",
        "    encoder:\n",
        "        type: \"transformer\"\n",
        "        num_layers: 6\n",
        "        num_heads: 4             # TODO: Increase to 8 for larger data.\n",
        "        embeddings:\n",
        "            embedding_dim: 256   # TODO: Increase to 512 for larger data.\n",
        "            scale: True\n",
        "            dropout: 0.2\n",
        "        # typically ff_size = 4 x hidden_size\n",
        "        hidden_size: 256         # TODO: Increase to 512 for larger data.\n",
        "        ff_size: 1024            # TODO: Increase to 2048 for larger data.\n",
        "        dropout: 0.3\n",
        "    decoder:\n",
        "        type: \"transformer\"\n",
        "        num_layers: 6\n",
        "        num_heads: 4              # TODO: Increase to 8 for larger data.\n",
        "        embeddings:\n",
        "            embedding_dim: 256    # TODO: Increase to 512 for larger data.\n",
        "            scale: True\n",
        "            dropout: 0.2\n",
        "        # typically ff_size = 4 x hidden_size\n",
        "        hidden_size: 256         # TODO: Increase to 512 for larger data.\n",
        "        ff_size: 1024            # TODO: Increase to 2048 for larger data.\n",
        "        dropout: 0.3\n",
        "\"\"\".format(name=name, gdrive_path=os.environ[\"gdrive_path\"], source_language=source_language, target_language=target_language)\n",
        "with open(\"joeynmt/configs/transformer_reverse_{name}.yaml\".format(name=name),'w') as f:\n",
        "    f.write(config)"
      ],
      "execution_count": 16,
      "outputs": []
    },
    {
      "cell_type": "markdown",
      "metadata": {
        "id": "oEzoJtV2MIpt"
      },
      "source": [
        "# Train the Model\n",
        "\n",
        "This single line of joeynmt runs the training using the config we made above"
      ]
    },
    {
      "cell_type": "code",
      "metadata": {
        "id": "WzbNYNdjLgNb",
        "outputId": "5505d60c-1561-46f3-e747-483832bf1943",
        "colab": {
          "base_uri": "https://localhost:8080/"
        }
      },
      "source": [
        "# Train the model\n",
        "# You can press Ctrl-C to stop. And then run the next cell to save your checkpoints! \n",
        "!cd joeynmt; python3 -m joeynmt train configs/transformer_reverse_$tgt$src.yaml"
      ],
      "execution_count": null,
      "outputs": [
        {
          "output_type": "stream",
          "text": [
            "2021-07-23 16:58:50,168 - INFO - root - Hello! This is Joey-NMT (version 1.3).\n",
            "2021-07-23 16:58:50,234 - INFO - joeynmt.data - Loading training data...\n",
            "2021-07-23 16:59:00,064 - INFO - joeynmt.data - Building vocabulary...\n",
            "2021-07-23 16:59:00,360 - INFO - joeynmt.data - Loading dev data...\n",
            "2021-07-23 16:59:00,398 - INFO - joeynmt.data - Loading test data...\n",
            "2021-07-23 16:59:00,454 - INFO - joeynmt.data - Data loaded.\n",
            "2021-07-23 16:59:00,454 - INFO - joeynmt.model - Building an encoder-decoder model...\n",
            "2021-07-23 16:59:00,812 - INFO - joeynmt.model - Enc-dec model built.\n",
            "2021-07-23 16:59:01.636594: I tensorflow/stream_executor/platform/default/dso_loader.cc:53] Successfully opened dynamic library libcudart.so.11.0\n",
            "2021-07-23 16:59:04,560 - INFO - joeynmt.training - Total params: 12191744\n",
            "2021-07-23 16:59:22,857 - INFO - joeynmt.helpers - cfg.name                           : lnfr_reverse_transformer\n",
            "2021-07-23 16:59:22,857 - INFO - joeynmt.helpers - cfg.data.src                       : ln\n",
            "2021-07-23 16:59:22,857 - INFO - joeynmt.helpers - cfg.data.trg                       : fr\n",
            "2021-07-23 16:59:22,857 - INFO - joeynmt.helpers - cfg.data.train                     : data/lnfr/train.bpe\n",
            "2021-07-23 16:59:22,857 - INFO - joeynmt.helpers - cfg.data.dev                       : data/lnfr/dev.bpe\n",
            "2021-07-23 16:59:22,857 - INFO - joeynmt.helpers - cfg.data.test                      : data/lnfr/test.bpe\n",
            "2021-07-23 16:59:22,857 - INFO - joeynmt.helpers - cfg.data.level                     : bpe\n",
            "2021-07-23 16:59:22,857 - INFO - joeynmt.helpers - cfg.data.lowercase                 : False\n",
            "2021-07-23 16:59:22,857 - INFO - joeynmt.helpers - cfg.data.max_sent_length           : 100\n",
            "2021-07-23 16:59:22,858 - INFO - joeynmt.helpers - cfg.data.src_vocab                 : data/lnfr/vocab.txt\n",
            "2021-07-23 16:59:22,858 - INFO - joeynmt.helpers - cfg.data.trg_vocab                 : data/lnfr/vocab.txt\n",
            "2021-07-23 16:59:22,858 - INFO - joeynmt.helpers - cfg.testing.beam_size              : 5\n",
            "2021-07-23 16:59:22,858 - INFO - joeynmt.helpers - cfg.testing.alpha                  : 1.0\n",
            "2021-07-23 16:59:22,858 - INFO - joeynmt.helpers - cfg.training.random_seed           : 42\n",
            "2021-07-23 16:59:22,858 - INFO - joeynmt.helpers - cfg.training.optimizer             : adam\n",
            "2021-07-23 16:59:22,858 - INFO - joeynmt.helpers - cfg.training.normalization         : tokens\n",
            "2021-07-23 16:59:22,858 - INFO - joeynmt.helpers - cfg.training.adam_betas            : [0.9, 0.999]\n",
            "2021-07-23 16:59:22,858 - INFO - joeynmt.helpers - cfg.training.scheduling            : plateau\n",
            "2021-07-23 16:59:22,858 - INFO - joeynmt.helpers - cfg.training.patience              : 5\n",
            "2021-07-23 16:59:22,858 - INFO - joeynmt.helpers - cfg.training.learning_rate_factor  : 0.5\n",
            "2021-07-23 16:59:22,858 - INFO - joeynmt.helpers - cfg.training.learning_rate_warmup  : 1000\n",
            "2021-07-23 16:59:22,858 - INFO - joeynmt.helpers - cfg.training.decrease_factor       : 0.7\n",
            "2021-07-23 16:59:22,858 - INFO - joeynmt.helpers - cfg.training.loss                  : crossentropy\n",
            "2021-07-23 16:59:22,858 - INFO - joeynmt.helpers - cfg.training.learning_rate         : 0.0003\n",
            "2021-07-23 16:59:22,859 - INFO - joeynmt.helpers - cfg.training.learning_rate_min     : 1e-08\n",
            "2021-07-23 16:59:22,859 - INFO - joeynmt.helpers - cfg.training.weight_decay          : 0.0\n",
            "2021-07-23 16:59:22,859 - INFO - joeynmt.helpers - cfg.training.label_smoothing       : 0.1\n",
            "2021-07-23 16:59:22,859 - INFO - joeynmt.helpers - cfg.training.batch_size            : 4096\n",
            "2021-07-23 16:59:22,859 - INFO - joeynmt.helpers - cfg.training.batch_type            : token\n",
            "2021-07-23 16:59:22,859 - INFO - joeynmt.helpers - cfg.training.eval_batch_size       : 3600\n",
            "2021-07-23 16:59:22,859 - INFO - joeynmt.helpers - cfg.training.eval_batch_type       : token\n",
            "2021-07-23 16:59:22,859 - INFO - joeynmt.helpers - cfg.training.batch_multiplier      : 1\n",
            "2021-07-23 16:59:22,859 - INFO - joeynmt.helpers - cfg.training.early_stopping_metric : ppl\n",
            "2021-07-23 16:59:22,859 - INFO - joeynmt.helpers - cfg.training.epochs                : 5\n",
            "2021-07-23 16:59:22,859 - INFO - joeynmt.helpers - cfg.training.validation_freq       : 1000\n",
            "2021-07-23 16:59:22,859 - INFO - joeynmt.helpers - cfg.training.logging_freq          : 100\n",
            "2021-07-23 16:59:22,859 - INFO - joeynmt.helpers - cfg.training.eval_metric           : bleu\n",
            "2021-07-23 16:59:22,859 - INFO - joeynmt.helpers - cfg.training.model_dir             : models/lnfr_reverse_transformer\n",
            "2021-07-23 16:59:22,860 - INFO - joeynmt.helpers - cfg.training.overwrite             : True\n",
            "2021-07-23 16:59:22,860 - INFO - joeynmt.helpers - cfg.training.shuffle               : True\n",
            "2021-07-23 16:59:22,860 - INFO - joeynmt.helpers - cfg.training.use_cuda              : True\n",
            "2021-07-23 16:59:22,860 - INFO - joeynmt.helpers - cfg.training.max_output_length     : 100\n",
            "2021-07-23 16:59:22,860 - INFO - joeynmt.helpers - cfg.training.print_valid_sents     : [0, 1, 2, 3]\n",
            "2021-07-23 16:59:22,860 - INFO - joeynmt.helpers - cfg.training.keep_last_ckpts       : 3\n",
            "2021-07-23 16:59:22,860 - INFO - joeynmt.helpers - cfg.model.initializer              : xavier\n",
            "2021-07-23 16:59:22,860 - INFO - joeynmt.helpers - cfg.model.bias_initializer         : zeros\n",
            "2021-07-23 16:59:22,860 - INFO - joeynmt.helpers - cfg.model.init_gain                : 1.0\n",
            "2021-07-23 16:59:22,860 - INFO - joeynmt.helpers - cfg.model.embed_initializer        : xavier\n",
            "2021-07-23 16:59:22,860 - INFO - joeynmt.helpers - cfg.model.embed_init_gain          : 1.0\n",
            "2021-07-23 16:59:22,860 - INFO - joeynmt.helpers - cfg.model.tied_embeddings          : True\n",
            "2021-07-23 16:59:22,860 - INFO - joeynmt.helpers - cfg.model.tied_softmax             : True\n",
            "2021-07-23 16:59:22,860 - INFO - joeynmt.helpers - cfg.model.encoder.type             : transformer\n",
            "2021-07-23 16:59:22,860 - INFO - joeynmt.helpers - cfg.model.encoder.num_layers       : 6\n",
            "2021-07-23 16:59:22,861 - INFO - joeynmt.helpers - cfg.model.encoder.num_heads        : 4\n",
            "2021-07-23 16:59:22,861 - INFO - joeynmt.helpers - cfg.model.encoder.embeddings.embedding_dim : 256\n",
            "2021-07-23 16:59:22,861 - INFO - joeynmt.helpers - cfg.model.encoder.embeddings.scale : True\n",
            "2021-07-23 16:59:22,861 - INFO - joeynmt.helpers - cfg.model.encoder.embeddings.dropout : 0.2\n",
            "2021-07-23 16:59:22,861 - INFO - joeynmt.helpers - cfg.model.encoder.hidden_size      : 256\n",
            "2021-07-23 16:59:22,861 - INFO - joeynmt.helpers - cfg.model.encoder.ff_size          : 1024\n",
            "2021-07-23 16:59:22,861 - INFO - joeynmt.helpers - cfg.model.encoder.dropout          : 0.3\n",
            "2021-07-23 16:59:22,861 - INFO - joeynmt.helpers - cfg.model.decoder.type             : transformer\n",
            "2021-07-23 16:59:22,861 - INFO - joeynmt.helpers - cfg.model.decoder.num_layers       : 6\n",
            "2021-07-23 16:59:22,861 - INFO - joeynmt.helpers - cfg.model.decoder.num_heads        : 4\n",
            "2021-07-23 16:59:22,861 - INFO - joeynmt.helpers - cfg.model.decoder.embeddings.embedding_dim : 256\n",
            "2021-07-23 16:59:22,861 - INFO - joeynmt.helpers - cfg.model.decoder.embeddings.scale : True\n",
            "2021-07-23 16:59:22,861 - INFO - joeynmt.helpers - cfg.model.decoder.embeddings.dropout : 0.2\n",
            "2021-07-23 16:59:22,862 - INFO - joeynmt.helpers - cfg.model.decoder.hidden_size      : 256\n",
            "2021-07-23 16:59:22,862 - INFO - joeynmt.helpers - cfg.model.decoder.ff_size          : 1024\n",
            "2021-07-23 16:59:22,862 - INFO - joeynmt.helpers - cfg.model.decoder.dropout          : 0.3\n",
            "2021-07-23 16:59:22,862 - INFO - joeynmt.helpers - Data set sizes: \n",
            "\ttrain 471907,\n",
            "\tvalid 1000,\n",
            "\ttest 2787\n",
            "2021-07-23 16:59:22,862 - INFO - joeynmt.helpers - First training example:\n",
            "\t[SRC] Lokola Yehova alim@@ bis@@ aka , yango elingi nde koloba ete mosu@@ mu@@ ki oyo ab@@ ongoli motema a@@ kozwa mb@@ eba moko te ya etamboli mabe na ye ?\n",
            "\t[TRG] Un péch@@ eur rep@@ ent@@ ant est - ​ il exemp@@ té de toutes les conséqu@@ ences de sa mauv@@ aise conduite sous prét@@ exte que Jéhovah est prê@@ t à par@@ donner ?\n",
            "2021-07-23 16:59:22,862 - INFO - joeynmt.helpers - First 10 words (src): (0) <unk> (1) <pad> (2) <s> (3) </s> (4) , (5) na (6) . (7) ya (8) de (9) oyo\n",
            "2021-07-23 16:59:22,862 - INFO - joeynmt.helpers - First 10 words (trg): (0) <unk> (1) <pad> (2) <s> (3) </s> (4) , (5) na (6) . (7) ya (8) de (9) oyo\n",
            "2021-07-23 16:59:22,862 - INFO - joeynmt.helpers - Number of Src words (types): 4420\n",
            "2021-07-23 16:59:22,862 - INFO - joeynmt.helpers - Number of Trg words (types): 4420\n",
            "2021-07-23 16:59:22,863 - INFO - joeynmt.training - Model(\n",
            "\tencoder=TransformerEncoder(num_layers=6, num_heads=4),\n",
            "\tdecoder=TransformerDecoder(num_layers=6, num_heads=4),\n",
            "\tsrc_embed=Embeddings(embedding_dim=256, vocab_size=4420),\n",
            "\ttrg_embed=Embeddings(embedding_dim=256, vocab_size=4420))\n",
            "2021-07-23 16:59:22,868 - INFO - joeynmt.training - Train stats:\n",
            "\tdevice: cuda\n",
            "\tn_gpu: 1\n",
            "\t16-bits training: False\n",
            "\tgradient accumulation: 1\n",
            "\tbatch size per device: 4096\n",
            "\ttotal batch size (w. parallel & accumulation): 4096\n",
            "2021-07-23 16:59:22,868 - INFO - joeynmt.training - EPOCH 1\n",
            "2021-07-23 16:59:37,694 - INFO - joeynmt.training - Epoch   1, Step:      100, Batch Loss:     5.718140, Tokens per Sec:    14137, Lr: 0.000300\n",
            "2021-07-23 16:59:49,870 - INFO - joeynmt.training - Epoch   1, Step:      200, Batch Loss:     5.579183, Tokens per Sec:    17647, Lr: 0.000300\n",
            "2021-07-23 17:00:02,120 - INFO - joeynmt.training - Epoch   1, Step:      300, Batch Loss:     5.063345, Tokens per Sec:    17365, Lr: 0.000300\n"
          ],
          "name": "stdout"
        }
      ]
    },
    {
      "cell_type": "code",
      "metadata": {
        "id": "MBoDS09JM807"
      },
      "source": [
        "# Copy the created models from the notebook storage to google drive for persistant storage \n",
        "!cp -r joeynmt/models/${tgt}${src}_reverse_transformer/* \"$gdrive_path/models/${src}${tgt}_reverse_transformer/\""
      ],
      "execution_count": null,
      "outputs": []
    },
    {
      "cell_type": "code",
      "metadata": {
        "id": "n94wlrCjVc17"
      },
      "source": [
        "# Output our validation accuracy\n",
        "! cat \"$gdrive_path/models/${tgt}${src}_reverse_transformer/validations.txt\""
      ],
      "execution_count": null,
      "outputs": []
    },
    {
      "cell_type": "code",
      "metadata": {
        "id": "66WhRE9lIhoD"
      },
      "source": [
        "# Test our model\n",
        "! cd joeynmt; python3 -m joeynmt test \"$gdrive_path/models/${tgt}${src}_reverse_transformer/config.yaml\""
      ],
      "execution_count": null,
      "outputs": []
    },
    {
      "cell_type": "code",
      "metadata": {
        "id": "6dUdhebcIrQR"
      },
      "source": [
        ""
      ],
      "execution_count": null,
      "outputs": []
    }
  ]
}